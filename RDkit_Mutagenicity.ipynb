{
  "cells": [
    {
      "cell_type": "code",
      "execution_count": 1,
      "metadata": {
        "colab": {
          "base_uri": "https://localhost:8080/",
          "height": 1000
        },
        "id": "umyeRePb7JDs",
        "outputId": "8fd32e45-e646-4c72-a6b0-7f7f6eab1e0b"
      },
      "outputs": [
        {
          "name": "stdout",
          "output_type": "stream",
          "text": [
            "Requirement already satisfied: PyTDC in /opt/anaconda3/envs/RDkitMutagenicity/lib/python3.9/site-packages (1.0.0)\n",
            "Requirement already satisfied: biopython<2.0,>=1.78 in /opt/anaconda3/envs/RDkitMutagenicity/lib/python3.9/site-packages (from PyTDC) (1.84)\n",
            "Requirement already satisfied: dataclasses<1.0,>=0.6 in /opt/anaconda3/envs/RDkitMutagenicity/lib/python3.9/site-packages (from PyTDC) (0.6)\n",
            "Requirement already satisfied: fuzzywuzzy<1.0,>=0.18.0 in /opt/anaconda3/envs/RDkitMutagenicity/lib/python3.9/site-packages (from PyTDC) (0.18.0)\n",
            "Requirement already satisfied: huggingface-hub<1.0,>=0.20.3 in /opt/anaconda3/envs/RDkitMutagenicity/lib/python3.9/site-packages (from PyTDC) (0.26.5)\n",
            "Requirement already satisfied: mygene<4.0.0,>=3.2.2 in /opt/anaconda3/envs/RDkitMutagenicity/lib/python3.9/site-packages (from PyTDC) (3.2.2)\n",
            "Requirement already satisfied: numpy<2.0.0,>=1.26.4 in /opt/anaconda3/envs/RDkitMutagenicity/lib/python3.9/site-packages (from PyTDC) (1.26.4)\n",
            "Requirement already satisfied: openpyxl<4.0.0,>=3.0.10 in /opt/anaconda3/envs/RDkitMutagenicity/lib/python3.9/site-packages (from PyTDC) (3.1.5)\n",
            "Requirement already satisfied: pandas<3.0.0,>=2.1.4 in /opt/anaconda3/envs/RDkitMutagenicity/lib/python3.9/site-packages (from PyTDC) (2.2.3)\n",
            "Requirement already satisfied: requests<3.0.0,>=2.31.0 in /opt/anaconda3/envs/RDkitMutagenicity/lib/python3.9/site-packages (from PyTDC) (2.32.3)\n",
            "Requirement already satisfied: scikit-learn==1.2.2 in /opt/anaconda3/envs/RDkitMutagenicity/lib/python3.9/site-packages (from PyTDC) (1.2.2)\n",
            "Requirement already satisfied: seaborn<1.0.0,>=0.12.2 in /opt/anaconda3/envs/RDkitMutagenicity/lib/python3.9/site-packages (from PyTDC) (0.13.2)\n",
            "Requirement already satisfied: tqdm<5.0.0,>=4.65.0 in /opt/anaconda3/envs/RDkitMutagenicity/lib/python3.9/site-packages (from PyTDC) (4.67.1)\n",
            "Requirement already satisfied: cellxgene-census<2.0.0,>=1.10.2 in /opt/anaconda3/envs/RDkitMutagenicity/lib/python3.9/site-packages (from PyTDC) (1.15.0)\n",
            "Requirement already satisfied: gget<1.0.0,>=0.28.4 in /opt/anaconda3/envs/RDkitMutagenicity/lib/python3.9/site-packages (from PyTDC) (0.29.0)\n",
            "Requirement already satisfied: pydantic<3.0.0,>=2.6.3 in /opt/anaconda3/envs/RDkitMutagenicity/lib/python3.9/site-packages (from PyTDC) (2.10.3)\n",
            "Requirement already satisfied: rdkit<2024.3.1,>=2023.9.5 in /opt/anaconda3/envs/RDkitMutagenicity/lib/python3.9/site-packages (from PyTDC) (2023.9.6)\n",
            "Requirement already satisfied: tiledbsoma<2.0.0,>=1.7.2 in /opt/anaconda3/envs/RDkitMutagenicity/lib/python3.9/site-packages (from PyTDC) (1.11.4)\n",
            "Requirement already satisfied: yapf<1.0.0,>=0.40.2 in /opt/anaconda3/envs/RDkitMutagenicity/lib/python3.9/site-packages (from PyTDC) (0.43.0)\n",
            "Requirement already satisfied: scipy>=1.3.2 in /opt/anaconda3/envs/RDkitMutagenicity/lib/python3.9/site-packages (from scikit-learn==1.2.2->PyTDC) (1.13.1)\n",
            "Requirement already satisfied: joblib>=1.1.1 in /opt/anaconda3/envs/RDkitMutagenicity/lib/python3.9/site-packages (from scikit-learn==1.2.2->PyTDC) (1.4.2)\n",
            "Requirement already satisfied: threadpoolctl>=2.0.0 in /opt/anaconda3/envs/RDkitMutagenicity/lib/python3.9/site-packages (from scikit-learn==1.2.2->PyTDC) (3.5.0)\n",
            "Requirement already satisfied: anndata in /opt/anaconda3/envs/RDkitMutagenicity/lib/python3.9/site-packages (from cellxgene-census<2.0.0,>=1.10.2->PyTDC) (0.10.9)\n",
            "Requirement already satisfied: typing-extensions in /opt/anaconda3/envs/RDkitMutagenicity/lib/python3.9/site-packages (from cellxgene-census<2.0.0,>=1.10.2->PyTDC) (4.12.2)\n",
            "Requirement already satisfied: s3fs>=2021.06.1 in /opt/anaconda3/envs/RDkitMutagenicity/lib/python3.9/site-packages (from cellxgene-census<2.0.0,>=1.10.2->PyTDC) (2024.10.0)\n",
            "Requirement already satisfied: ipython in /opt/anaconda3/envs/RDkitMutagenicity/lib/python3.9/site-packages (from gget<1.0.0,>=0.28.4->PyTDC) (8.18.1)\n",
            "Requirement already satisfied: matplotlib in /opt/anaconda3/envs/RDkitMutagenicity/lib/python3.9/site-packages (from gget<1.0.0,>=0.28.4->PyTDC) (3.9.3)\n",
            "Requirement already satisfied: mysql-connector-python>=8.0.32 in /opt/anaconda3/envs/RDkitMutagenicity/lib/python3.9/site-packages (from gget<1.0.0,>=0.28.4->PyTDC) (9.1.0)\n",
            "Requirement already satisfied: beautifulsoup4>=4.10.0 in /opt/anaconda3/envs/RDkitMutagenicity/lib/python3.9/site-packages (from gget<1.0.0,>=0.28.4->PyTDC) (4.12.3)\n",
            "Requirement already satisfied: ipywidgets in /opt/anaconda3/envs/RDkitMutagenicity/lib/python3.9/site-packages (from gget<1.0.0,>=0.28.4->PyTDC) (8.1.5)\n",
            "Requirement already satisfied: lxml in /opt/anaconda3/envs/RDkitMutagenicity/lib/python3.9/site-packages (from gget<1.0.0,>=0.28.4->PyTDC) (5.3.0)\n",
            "Requirement already satisfied: filelock in /opt/anaconda3/envs/RDkitMutagenicity/lib/python3.9/site-packages (from huggingface-hub<1.0,>=0.20.3->PyTDC) (3.16.1)\n",
            "Requirement already satisfied: fsspec>=2023.5.0 in /opt/anaconda3/envs/RDkitMutagenicity/lib/python3.9/site-packages (from huggingface-hub<1.0,>=0.20.3->PyTDC) (2024.10.0)\n",
            "Requirement already satisfied: packaging>=20.9 in /opt/anaconda3/envs/RDkitMutagenicity/lib/python3.9/site-packages (from huggingface-hub<1.0,>=0.20.3->PyTDC) (24.2)\n",
            "Requirement already satisfied: pyyaml>=5.1 in /opt/anaconda3/envs/RDkitMutagenicity/lib/python3.9/site-packages (from huggingface-hub<1.0,>=0.20.3->PyTDC) (6.0.2)\n",
            "Requirement already satisfied: biothings-client>=0.2.6 in /opt/anaconda3/envs/RDkitMutagenicity/lib/python3.9/site-packages (from mygene<4.0.0,>=3.2.2->PyTDC) (0.3.1)\n",
            "Requirement already satisfied: et-xmlfile in /opt/anaconda3/envs/RDkitMutagenicity/lib/python3.9/site-packages (from openpyxl<4.0.0,>=3.0.10->PyTDC) (2.0.0)\n",
            "Requirement already satisfied: python-dateutil>=2.8.2 in /opt/anaconda3/envs/RDkitMutagenicity/lib/python3.9/site-packages (from pandas<3.0.0,>=2.1.4->PyTDC) (2.9.0.post0)\n",
            "Requirement already satisfied: pytz>=2020.1 in /opt/anaconda3/envs/RDkitMutagenicity/lib/python3.9/site-packages (from pandas<3.0.0,>=2.1.4->PyTDC) (2024.2)\n",
            "Requirement already satisfied: tzdata>=2022.7 in /opt/anaconda3/envs/RDkitMutagenicity/lib/python3.9/site-packages (from pandas<3.0.0,>=2.1.4->PyTDC) (2024.2)\n",
            "Requirement already satisfied: annotated-types>=0.6.0 in /opt/anaconda3/envs/RDkitMutagenicity/lib/python3.9/site-packages (from pydantic<3.0.0,>=2.6.3->PyTDC) (0.7.0)\n",
            "Requirement already satisfied: pydantic-core==2.27.1 in /opt/anaconda3/envs/RDkitMutagenicity/lib/python3.9/site-packages (from pydantic<3.0.0,>=2.6.3->PyTDC) (2.27.1)\n",
            "Requirement already satisfied: Pillow in /opt/anaconda3/envs/RDkitMutagenicity/lib/python3.9/site-packages (from rdkit<2024.3.1,>=2023.9.5->PyTDC) (11.0.0)\n",
            "Requirement already satisfied: charset-normalizer<4,>=2 in /opt/anaconda3/envs/RDkitMutagenicity/lib/python3.9/site-packages (from requests<3.0.0,>=2.31.0->PyTDC) (3.4.0)\n",
            "Requirement already satisfied: idna<4,>=2.5 in /opt/anaconda3/envs/RDkitMutagenicity/lib/python3.9/site-packages (from requests<3.0.0,>=2.31.0->PyTDC) (3.10)\n",
            "Requirement already satisfied: urllib3<3,>=1.21.1 in /opt/anaconda3/envs/RDkitMutagenicity/lib/python3.9/site-packages (from requests<3.0.0,>=2.31.0->PyTDC) (1.26.20)\n",
            "Requirement already satisfied: certifi>=2017.4.17 in /opt/anaconda3/envs/RDkitMutagenicity/lib/python3.9/site-packages (from requests<3.0.0,>=2.31.0->PyTDC) (2024.8.30)\n",
            "Requirement already satisfied: attrs>=22.2 in /opt/anaconda3/envs/RDkitMutagenicity/lib/python3.9/site-packages (from tiledbsoma<2.0.0,>=1.7.2->PyTDC) (24.2.0)\n",
            "Requirement already satisfied: numba>=0.58.0 in /opt/anaconda3/envs/RDkitMutagenicity/lib/python3.9/site-packages (from tiledbsoma<2.0.0,>=1.7.2->PyTDC) (0.60.0)\n",
            "Requirement already satisfied: pyarrow-hotfix in /opt/anaconda3/envs/RDkitMutagenicity/lib/python3.9/site-packages (from tiledbsoma<2.0.0,>=1.7.2->PyTDC) (0.6)\n",
            "Requirement already satisfied: scanpy>=1.9.2 in /opt/anaconda3/envs/RDkitMutagenicity/lib/python3.9/site-packages (from tiledbsoma<2.0.0,>=1.7.2->PyTDC) (1.10.3)\n",
            "Requirement already satisfied: somacore==1.0.11 in /opt/anaconda3/envs/RDkitMutagenicity/lib/python3.9/site-packages (from tiledbsoma<2.0.0,>=1.7.2->PyTDC) (1.0.11)\n",
            "Requirement already satisfied: tiledb~=0.29.0 in /opt/anaconda3/envs/RDkitMutagenicity/lib/python3.9/site-packages (from tiledbsoma<2.0.0,>=1.7.2->PyTDC) (0.29.1)\n",
            "Requirement already satisfied: pyarrow<13.0.0,>=9.0.0 in /opt/anaconda3/envs/RDkitMutagenicity/lib/python3.9/site-packages (from tiledbsoma<2.0.0,>=1.7.2->PyTDC) (12.0.1)\n",
            "Requirement already satisfied: platformdirs>=3.5.1 in /opt/anaconda3/envs/RDkitMutagenicity/lib/python3.9/site-packages (from yapf<1.0.0,>=0.40.2->PyTDC) (4.3.6)\n",
            "Requirement already satisfied: tomli>=2.0.1 in /opt/anaconda3/envs/RDkitMutagenicity/lib/python3.9/site-packages (from yapf<1.0.0,>=0.40.2->PyTDC) (2.2.1)\n",
            "Requirement already satisfied: array-api-compat!=1.5,>1.4 in /opt/anaconda3/envs/RDkitMutagenicity/lib/python3.9/site-packages (from anndata->cellxgene-census<2.0.0,>=1.10.2->PyTDC) (1.9.1)\n",
            "Requirement already satisfied: exceptiongroup in /opt/anaconda3/envs/RDkitMutagenicity/lib/python3.9/site-packages (from anndata->cellxgene-census<2.0.0,>=1.10.2->PyTDC) (1.2.2)\n",
            "Requirement already satisfied: h5py>=3.1 in /opt/anaconda3/envs/RDkitMutagenicity/lib/python3.9/site-packages (from anndata->cellxgene-census<2.0.0,>=1.10.2->PyTDC) (3.12.1)\n",
            "Requirement already satisfied: natsort in /opt/anaconda3/envs/RDkitMutagenicity/lib/python3.9/site-packages (from anndata->cellxgene-census<2.0.0,>=1.10.2->PyTDC) (8.4.0)\n",
            "Requirement already satisfied: soupsieve>1.2 in /opt/anaconda3/envs/RDkitMutagenicity/lib/python3.9/site-packages (from beautifulsoup4>=4.10.0->gget<1.0.0,>=0.28.4->PyTDC) (2.6)\n",
            "Requirement already satisfied: contourpy>=1.0.1 in /opt/anaconda3/envs/RDkitMutagenicity/lib/python3.9/site-packages (from matplotlib->gget<1.0.0,>=0.28.4->PyTDC) (1.3.0)\n",
            "Requirement already satisfied: cycler>=0.10 in /opt/anaconda3/envs/RDkitMutagenicity/lib/python3.9/site-packages (from matplotlib->gget<1.0.0,>=0.28.4->PyTDC) (0.12.1)\n",
            "Requirement already satisfied: fonttools>=4.22.0 in /opt/anaconda3/envs/RDkitMutagenicity/lib/python3.9/site-packages (from matplotlib->gget<1.0.0,>=0.28.4->PyTDC) (4.55.3)\n",
            "Requirement already satisfied: kiwisolver>=1.3.1 in /opt/anaconda3/envs/RDkitMutagenicity/lib/python3.9/site-packages (from matplotlib->gget<1.0.0,>=0.28.4->PyTDC) (1.4.7)\n",
            "Requirement already satisfied: pyparsing>=2.3.1 in /opt/anaconda3/envs/RDkitMutagenicity/lib/python3.9/site-packages (from matplotlib->gget<1.0.0,>=0.28.4->PyTDC) (3.2.0)\n",
            "Requirement already satisfied: importlib-resources>=3.2.0 in /opt/anaconda3/envs/RDkitMutagenicity/lib/python3.9/site-packages (from matplotlib->gget<1.0.0,>=0.28.4->PyTDC) (6.4.5)\n",
            "Requirement already satisfied: llvmlite<0.44,>=0.43.0dev0 in /opt/anaconda3/envs/RDkitMutagenicity/lib/python3.9/site-packages (from numba>=0.58.0->tiledbsoma<2.0.0,>=1.7.2->PyTDC) (0.43.0)\n",
            "Requirement already satisfied: six>=1.5 in /opt/anaconda3/envs/RDkitMutagenicity/lib/python3.9/site-packages (from python-dateutil>=2.8.2->pandas<3.0.0,>=2.1.4->PyTDC) (1.17.0)\n",
            "Requirement already satisfied: aiobotocore<3.0.0,>=2.5.4 in /opt/anaconda3/envs/RDkitMutagenicity/lib/python3.9/site-packages (from s3fs>=2021.06.1->cellxgene-census<2.0.0,>=1.10.2->PyTDC) (2.15.2)\n",
            "Requirement already satisfied: aiohttp!=4.0.0a0,!=4.0.0a1 in /opt/anaconda3/envs/RDkitMutagenicity/lib/python3.9/site-packages (from s3fs>=2021.06.1->cellxgene-census<2.0.0,>=1.10.2->PyTDC) (3.11.10)\n",
            "Requirement already satisfied: get-annotations in /opt/anaconda3/envs/RDkitMutagenicity/lib/python3.9/site-packages (from scanpy>=1.9.2->tiledbsoma<2.0.0,>=1.7.2->PyTDC) (0.1.2)\n",
            "Requirement already satisfied: legacy-api-wrap>=1.4 in /opt/anaconda3/envs/RDkitMutagenicity/lib/python3.9/site-packages (from scanpy>=1.9.2->tiledbsoma<2.0.0,>=1.7.2->PyTDC) (1.4.1)\n",
            "Requirement already satisfied: networkx>=2.7 in /opt/anaconda3/envs/RDkitMutagenicity/lib/python3.9/site-packages (from scanpy>=1.9.2->tiledbsoma<2.0.0,>=1.7.2->PyTDC) (3.2.1)\n",
            "Requirement already satisfied: patsy in /opt/anaconda3/envs/RDkitMutagenicity/lib/python3.9/site-packages (from scanpy>=1.9.2->tiledbsoma<2.0.0,>=1.7.2->PyTDC) (1.0.1)\n",
            "Requirement already satisfied: pynndescent>=0.5 in /opt/anaconda3/envs/RDkitMutagenicity/lib/python3.9/site-packages (from scanpy>=1.9.2->tiledbsoma<2.0.0,>=1.7.2->PyTDC) (0.5.13)\n",
            "Requirement already satisfied: session-info in /opt/anaconda3/envs/RDkitMutagenicity/lib/python3.9/site-packages (from scanpy>=1.9.2->tiledbsoma<2.0.0,>=1.7.2->PyTDC) (1.0.0)\n",
            "Requirement already satisfied: statsmodels>=0.13 in /opt/anaconda3/envs/RDkitMutagenicity/lib/python3.9/site-packages (from scanpy>=1.9.2->tiledbsoma<2.0.0,>=1.7.2->PyTDC) (0.14.4)\n",
            "Requirement already satisfied: umap-learn!=0.5.0,>=0.5 in /opt/anaconda3/envs/RDkitMutagenicity/lib/python3.9/site-packages (from scanpy>=1.9.2->tiledbsoma<2.0.0,>=1.7.2->PyTDC) (0.5.7)\n",
            "Requirement already satisfied: decorator in /opt/anaconda3/envs/RDkitMutagenicity/lib/python3.9/site-packages (from ipython->gget<1.0.0,>=0.28.4->PyTDC) (5.1.1)\n",
            "Requirement already satisfied: jedi>=0.16 in /opt/anaconda3/envs/RDkitMutagenicity/lib/python3.9/site-packages (from ipython->gget<1.0.0,>=0.28.4->PyTDC) (0.19.2)\n",
            "Requirement already satisfied: matplotlib-inline in /opt/anaconda3/envs/RDkitMutagenicity/lib/python3.9/site-packages (from ipython->gget<1.0.0,>=0.28.4->PyTDC) (0.1.7)\n",
            "Requirement already satisfied: prompt-toolkit<3.1.0,>=3.0.41 in /opt/anaconda3/envs/RDkitMutagenicity/lib/python3.9/site-packages (from ipython->gget<1.0.0,>=0.28.4->PyTDC) (3.0.48)\n",
            "Requirement already satisfied: pygments>=2.4.0 in /opt/anaconda3/envs/RDkitMutagenicity/lib/python3.9/site-packages (from ipython->gget<1.0.0,>=0.28.4->PyTDC) (2.18.0)\n",
            "Requirement already satisfied: stack-data in /opt/anaconda3/envs/RDkitMutagenicity/lib/python3.9/site-packages (from ipython->gget<1.0.0,>=0.28.4->PyTDC) (0.6.3)\n",
            "Requirement already satisfied: traitlets>=5 in /opt/anaconda3/envs/RDkitMutagenicity/lib/python3.9/site-packages (from ipython->gget<1.0.0,>=0.28.4->PyTDC) (5.14.3)\n",
            "Requirement already satisfied: pexpect>4.3 in /opt/anaconda3/envs/RDkitMutagenicity/lib/python3.9/site-packages (from ipython->gget<1.0.0,>=0.28.4->PyTDC) (4.9.0)\n",
            "Requirement already satisfied: comm>=0.1.3 in /opt/anaconda3/envs/RDkitMutagenicity/lib/python3.9/site-packages (from ipywidgets->gget<1.0.0,>=0.28.4->PyTDC) (0.2.2)\n",
            "Requirement already satisfied: widgetsnbextension~=4.0.12 in /opt/anaconda3/envs/RDkitMutagenicity/lib/python3.9/site-packages (from ipywidgets->gget<1.0.0,>=0.28.4->PyTDC) (4.0.13)\n",
            "Requirement already satisfied: jupyterlab-widgets~=3.0.12 in /opt/anaconda3/envs/RDkitMutagenicity/lib/python3.9/site-packages (from ipywidgets->gget<1.0.0,>=0.28.4->PyTDC) (3.0.13)\n",
            "Requirement already satisfied: botocore<1.35.37,>=1.35.16 in /opt/anaconda3/envs/RDkitMutagenicity/lib/python3.9/site-packages (from aiobotocore<3.0.0,>=2.5.4->s3fs>=2021.06.1->cellxgene-census<2.0.0,>=1.10.2->PyTDC) (1.35.36)\n",
            "Requirement already satisfied: wrapt<2.0.0,>=1.10.10 in /opt/anaconda3/envs/RDkitMutagenicity/lib/python3.9/site-packages (from aiobotocore<3.0.0,>=2.5.4->s3fs>=2021.06.1->cellxgene-census<2.0.0,>=1.10.2->PyTDC) (1.17.0)\n",
            "Requirement already satisfied: aioitertools<1.0.0,>=0.5.1 in /opt/anaconda3/envs/RDkitMutagenicity/lib/python3.9/site-packages (from aiobotocore<3.0.0,>=2.5.4->s3fs>=2021.06.1->cellxgene-census<2.0.0,>=1.10.2->PyTDC) (0.12.0)\n",
            "Requirement already satisfied: aiohappyeyeballs>=2.3.0 in /opt/anaconda3/envs/RDkitMutagenicity/lib/python3.9/site-packages (from aiohttp!=4.0.0a0,!=4.0.0a1->s3fs>=2021.06.1->cellxgene-census<2.0.0,>=1.10.2->PyTDC) (2.4.4)\n",
            "Requirement already satisfied: aiosignal>=1.1.2 in /opt/anaconda3/envs/RDkitMutagenicity/lib/python3.9/site-packages (from aiohttp!=4.0.0a0,!=4.0.0a1->s3fs>=2021.06.1->cellxgene-census<2.0.0,>=1.10.2->PyTDC) (1.3.1)\n",
            "Requirement already satisfied: async-timeout<6.0,>=4.0 in /opt/anaconda3/envs/RDkitMutagenicity/lib/python3.9/site-packages (from aiohttp!=4.0.0a0,!=4.0.0a1->s3fs>=2021.06.1->cellxgene-census<2.0.0,>=1.10.2->PyTDC) (5.0.1)\n",
            "Requirement already satisfied: frozenlist>=1.1.1 in /opt/anaconda3/envs/RDkitMutagenicity/lib/python3.9/site-packages (from aiohttp!=4.0.0a0,!=4.0.0a1->s3fs>=2021.06.1->cellxgene-census<2.0.0,>=1.10.2->PyTDC) (1.5.0)\n",
            "Requirement already satisfied: multidict<7.0,>=4.5 in /opt/anaconda3/envs/RDkitMutagenicity/lib/python3.9/site-packages (from aiohttp!=4.0.0a0,!=4.0.0a1->s3fs>=2021.06.1->cellxgene-census<2.0.0,>=1.10.2->PyTDC) (6.1.0)\n",
            "Requirement already satisfied: propcache>=0.2.0 in /opt/anaconda3/envs/RDkitMutagenicity/lib/python3.9/site-packages (from aiohttp!=4.0.0a0,!=4.0.0a1->s3fs>=2021.06.1->cellxgene-census<2.0.0,>=1.10.2->PyTDC) (0.2.1)\n",
            "Requirement already satisfied: yarl<2.0,>=1.17.0 in /opt/anaconda3/envs/RDkitMutagenicity/lib/python3.9/site-packages (from aiohttp!=4.0.0a0,!=4.0.0a1->s3fs>=2021.06.1->cellxgene-census<2.0.0,>=1.10.2->PyTDC) (1.18.3)\n",
            "Requirement already satisfied: zipp>=3.1.0 in /opt/anaconda3/envs/RDkitMutagenicity/lib/python3.9/site-packages (from importlib-resources>=3.2.0->matplotlib->gget<1.0.0,>=0.28.4->PyTDC) (3.21.0)\n",
            "Requirement already satisfied: parso<0.9.0,>=0.8.4 in /opt/anaconda3/envs/RDkitMutagenicity/lib/python3.9/site-packages (from jedi>=0.16->ipython->gget<1.0.0,>=0.28.4->PyTDC) (0.8.4)\n",
            "Requirement already satisfied: ptyprocess>=0.5 in /opt/anaconda3/envs/RDkitMutagenicity/lib/python3.9/site-packages (from pexpect>4.3->ipython->gget<1.0.0,>=0.28.4->PyTDC) (0.7.0)\n",
            "Requirement already satisfied: wcwidth in /opt/anaconda3/envs/RDkitMutagenicity/lib/python3.9/site-packages (from prompt-toolkit<3.1.0,>=3.0.41->ipython->gget<1.0.0,>=0.28.4->PyTDC) (0.2.13)\n",
            "Requirement already satisfied: stdlib-list in /opt/anaconda3/envs/RDkitMutagenicity/lib/python3.9/site-packages (from session-info->scanpy>=1.9.2->tiledbsoma<2.0.0,>=1.7.2->PyTDC) (0.11.0)\n",
            "Requirement already satisfied: executing>=1.2.0 in /opt/anaconda3/envs/RDkitMutagenicity/lib/python3.9/site-packages (from stack-data->ipython->gget<1.0.0,>=0.28.4->PyTDC) (2.1.0)\n",
            "Requirement already satisfied: asttokens>=2.1.0 in /opt/anaconda3/envs/RDkitMutagenicity/lib/python3.9/site-packages (from stack-data->ipython->gget<1.0.0,>=0.28.4->PyTDC) (3.0.0)\n",
            "Requirement already satisfied: pure_eval in /opt/anaconda3/envs/RDkitMutagenicity/lib/python3.9/site-packages (from stack-data->ipython->gget<1.0.0,>=0.28.4->PyTDC) (0.2.3)\n",
            "Requirement already satisfied: jmespath<2.0.0,>=0.7.1 in /opt/anaconda3/envs/RDkitMutagenicity/lib/python3.9/site-packages (from botocore<1.35.37,>=1.35.16->aiobotocore<3.0.0,>=2.5.4->s3fs>=2021.06.1->cellxgene-census<2.0.0,>=1.10.2->PyTDC) (1.0.1)\n",
            "Requirement already satisfied: pysmiles in /opt/anaconda3/envs/RDkitMutagenicity/lib/python3.9/site-packages (1.1.2)\n",
            "Requirement already satisfied: pbr in /opt/anaconda3/envs/RDkitMutagenicity/lib/python3.9/site-packages (from pysmiles) (6.1.0)\n",
            "Requirement already satisfied: networkx in /opt/anaconda3/envs/RDkitMutagenicity/lib/python3.9/site-packages (from pysmiles) (3.2.1)\n",
            "Requirement already satisfied: rdkit in /opt/anaconda3/envs/RDkitMutagenicity/lib/python3.9/site-packages (2023.9.6)\n",
            "Requirement already satisfied: numpy in /opt/anaconda3/envs/RDkitMutagenicity/lib/python3.9/site-packages (from rdkit) (1.26.4)\n",
            "Requirement already satisfied: Pillow in /opt/anaconda3/envs/RDkitMutagenicity/lib/python3.9/site-packages (from rdkit) (11.0.0)\n"
          ]
        }
      ],
      "source": [
        "#  !pip install PyTDC\n",
        "#  !pip install pysmiles\n",
        "#  !pip install rdkit"
      ]
    },
    {
      "cell_type": "code",
      "execution_count": 2,
      "metadata": {
        "colab": {
          "base_uri": "https://localhost:8080/"
        },
        "id": "oYtZsA0J7iCA",
        "outputId": "7d9be456-62a9-409f-e012-85eadda4b579"
      },
      "outputs": [
        {
          "name": "stderr",
          "output_type": "stream",
          "text": [
            "Downloading...\n",
            "100%|██████████| 344k/344k [00:00<00:00, 4.27MiB/s]\n",
            "Loading...\n",
            "Done!\n"
          ]
        }
      ],
      "source": [
        "from tdc.single_pred import Tox\n",
        "import pandas as pd\n",
        "from rdkit import Chem\n",
        "import rdkit\n",
        "from rdkit.Chem import Descriptors\n",
        "from sklearn.ensemble import RandomForestClassifier\n",
        "from sklearn.neighbors import KNeighborsClassifier\n",
        "from sklearn.metrics import accuracy_score, classification_report\n",
        "\n",
        "data = Tox(name = 'AMES')\n",
        "split = data.get_split()"
      ]
    },
    {
      "cell_type": "code",
      "execution_count": 3,
      "metadata": {
        "id": "2l02cVtK7j3O"
      },
      "outputs": [],
      "source": [
        "train_df = pd.DataFrame(split['train'])\n",
        "val_df = pd.DataFrame(split['valid'])\n",
        "test_df = pd.DataFrame(split['test'])"
      ]
    },
    {
      "cell_type": "markdown",
      "metadata": {
        "id": "D0fm6XDQYrYH"
      },
      "source": [
        "# Data checking + getting features"
      ]
    },
    {
      "cell_type": "code",
      "execution_count": 4,
      "metadata": {
        "id": "AhLQ9YP7YrBb"
      },
      "outputs": [],
      "source": [
        "# Checks if mutagenicity- \"Y\" value is 0 or 1. Otherwise, filter it out\n",
        "train_df = train_df[train_df[\"Y\"].isin([0, 1])]\n",
        "val_df = val_df[val_df[\"Y\"].isin([0, 1])]\n",
        "test_df = test_df[test_df[\"Y\"].isin([0, 1])]"
      ]
    },
    {
      "cell_type": "code",
      "execution_count": 22,
      "metadata": {
        "id": "uDoXhGDjB0r0"
      },
      "outputs": [],
      "source": [
        "def get_descriptor(dataset):\n",
        "  data = []\n",
        "  label = []\n",
        "\n",
        "  for i in range(len(dataset)):\n",
        "    smiles = dataset.loc[i, \"Drug\"]\n",
        "    label.append(dataset.loc[i, \"Y\"])\n",
        "    mol = Chem.MolFromSmiles(smiles)\n",
        "    if mol: # checks for valid smile strings\n",
        "        fpD1 = Descriptors.FpDensityMorgan1(mol)\n",
        "        fpD2 = Descriptors.FpDensityMorgan2(mol)\n",
        "        fpD3 = Descriptors.FpDensityMorgan3(mol)\n",
        "        mw = Descriptors.ExactMolWt(mol)\n",
        "        heavyAtom = Descriptors.HeavyAtomCount(mol)\n",
        "        data.append([fpD1, fpD2, fpD3, mw, heavyAtom])\n",
        "\n",
        "  columns = ['FpDensityMorgan1', 'FpDensityMorgan2', 'FpDensityMorgan3', 'ExactMolWt', \"HeavyAtomCount\"]\n",
        "  descriptor_df = pd.DataFrame(data, columns=columns)\n",
        "  descriptor_df['Label'] = label\n",
        "\n",
        "  return descriptor_df"
      ]
    },
    {
      "cell_type": "markdown",
      "metadata": {
        "id": "AW7YEwPDZdYG"
      },
      "source": [
        "# Splitting code up into features and labels"
      ]
    },
    {
      "cell_type": "code",
      "execution_count": 23,
      "metadata": {
        "colab": {
          "base_uri": "https://localhost:8080/"
        },
        "id": "Y5g51yB9uwct",
        "outputId": "7e64de5d-b077-4007-cf9e-c3aa44dec67d"
      },
      "outputs": [
        {
          "name": "stdout",
          "output_type": "stream",
          "text": [
            "Train:\n",
            "2759\n",
            "2335\n",
            "=========================================\n",
            "Test:\n",
            "798\n",
            "658\n",
            "=========================================\n",
            "Val:\n",
            "417\n",
            "311\n",
            "=========================================\n",
            "Total:\n",
            "3974\n",
            "3304\n"
          ]
        }
      ],
      "source": [
        "print(\"Train:\")\n",
        "print(len(train_df[train_df[\"Y\"] == 1]))\n",
        "print(len(train_df[train_df[\"Y\"] == 0]))\n",
        "print(\"=========================================\")\n",
        "print(\"Test:\")\n",
        "print(len(test_df[test_df[\"Y\"] == 1]))\n",
        "print(len(test_df[test_df[\"Y\"] == 0]))\n",
        "print(\"=========================================\")\n",
        "print(\"Val:\")\n",
        "print(len(val_df[val_df[\"Y\"] == 1]))\n",
        "print(len(val_df[val_df[\"Y\"] == 0]))\n",
        "\n",
        "print(\"=========================================\")\n",
        "print(\"Total:\")\n",
        "print(len(train_df[train_df[\"Y\"] == 1]) + len(test_df[test_df[\"Y\"] == 1]) + len(val_df[val_df[\"Y\"] == 1]))\n",
        "print(len(train_df[train_df[\"Y\"] == 0]) + len(test_df[test_df[\"Y\"] == 0]) + len(val_df[val_df[\"Y\"] == 0]))"
      ]
    },
    {
      "cell_type": "code",
      "execution_count": 24,
      "metadata": {
        "id": "-MzfymfMACqa"
      },
      "outputs": [],
      "source": [
        "descriptor_df_train = get_descriptor(train_df)\n",
        "descriptor_df_val = get_descriptor(val_df)\n",
        "descriptor_df_test = get_descriptor(test_df)\n",
        "\n",
        "X_train, y_train = descriptor_df_train.drop(columns=['Label']), descriptor_df_train['Label']\n",
        "X_val, y_val = descriptor_df_val.drop(columns=['Label']), descriptor_df_val['Label']\n",
        "X_test, y_test = descriptor_df_test.drop(columns=['Label']), descriptor_df_test['Label']"
      ]
    },
    {
      "cell_type": "code",
      "execution_count": 51,
      "metadata": {
        "colab": {
          "base_uri": "https://localhost:8080/",
          "height": 359
        },
        "id": "NUjqk016vSSA",
        "outputId": "d7c8753c-5b1e-46c3-ab24-b7968437924b"
      },
      "outputs": [
        {
          "data": {
            "text/html": [
              "<div>\n",
              "<style scoped>\n",
              "    .dataframe tbody tr th:only-of-type {\n",
              "        vertical-align: middle;\n",
              "    }\n",
              "\n",
              "    .dataframe tbody tr th {\n",
              "        vertical-align: top;\n",
              "    }\n",
              "\n",
              "    .dataframe thead th {\n",
              "        text-align: right;\n",
              "    }\n",
              "</style>\n",
              "<table border=\"1\" class=\"dataframe\">\n",
              "  <thead>\n",
              "    <tr style=\"text-align: right;\">\n",
              "      <th></th>\n",
              "      <th>FpDensityMorgan1</th>\n",
              "      <th>FpDensityMorgan2</th>\n",
              "      <th>FpDensityMorgan3</th>\n",
              "      <th>ExactMolWt</th>\n",
              "      <th>HeavyAtomCount</th>\n",
              "      <th>Label</th>\n",
              "    </tr>\n",
              "  </thead>\n",
              "  <tbody>\n",
              "    <tr>\n",
              "      <th>0</th>\n",
              "      <td>0.782609</td>\n",
              "      <td>1.434783</td>\n",
              "      <td>2.130435</td>\n",
              "      <td>301.110279</td>\n",
              "      <td>23</td>\n",
              "      <td>1</td>\n",
              "    </tr>\n",
              "    <tr>\n",
              "      <th>1</th>\n",
              "      <td>0.240000</td>\n",
              "      <td>0.520000</td>\n",
              "      <td>0.860000</td>\n",
              "      <td>646.116486</td>\n",
              "      <td>50</td>\n",
              "      <td>0</td>\n",
              "    </tr>\n",
              "    <tr>\n",
              "      <th>2</th>\n",
              "      <td>1.636364</td>\n",
              "      <td>2.272727</td>\n",
              "      <td>2.727273</td>\n",
              "      <td>157.059974</td>\n",
              "      <td>11</td>\n",
              "      <td>1</td>\n",
              "    </tr>\n",
              "    <tr>\n",
              "      <th>3</th>\n",
              "      <td>1.600000</td>\n",
              "      <td>2.300000</td>\n",
              "      <td>2.800000</td>\n",
              "      <td>138.017775</td>\n",
              "      <td>10</td>\n",
              "      <td>1</td>\n",
              "    </tr>\n",
              "    <tr>\n",
              "      <th>4</th>\n",
              "      <td>1.526316</td>\n",
              "      <td>2.263158</td>\n",
              "      <td>2.842105</td>\n",
              "      <td>264.122240</td>\n",
              "      <td>19</td>\n",
              "      <td>1</td>\n",
              "    </tr>\n",
              "    <tr>\n",
              "      <th>5</th>\n",
              "      <td>1.750000</td>\n",
              "      <td>2.333333</td>\n",
              "      <td>2.750000</td>\n",
              "      <td>173.043656</td>\n",
              "      <td>12</td>\n",
              "      <td>1</td>\n",
              "    </tr>\n",
              "    <tr>\n",
              "      <th>6</th>\n",
              "      <td>1.178571</td>\n",
              "      <td>1.857143</td>\n",
              "      <td>2.500000</td>\n",
              "      <td>406.154702</td>\n",
              "      <td>28</td>\n",
              "      <td>0</td>\n",
              "    </tr>\n",
              "    <tr>\n",
              "      <th>7</th>\n",
              "      <td>0.666667</td>\n",
              "      <td>0.888889</td>\n",
              "      <td>1.111111</td>\n",
              "      <td>126.065394</td>\n",
              "      <td>9</td>\n",
              "      <td>0</td>\n",
              "    </tr>\n",
              "    <tr>\n",
              "      <th>8</th>\n",
              "      <td>1.043478</td>\n",
              "      <td>1.826087</td>\n",
              "      <td>2.608696</td>\n",
              "      <td>307.095691</td>\n",
              "      <td>23</td>\n",
              "      <td>1</td>\n",
              "    </tr>\n",
              "    <tr>\n",
              "      <th>9</th>\n",
              "      <td>1.437500</td>\n",
              "      <td>2.187500</td>\n",
              "      <td>2.937500</td>\n",
              "      <td>234.082684</td>\n",
              "      <td>16</td>\n",
              "      <td>0</td>\n",
              "    </tr>\n",
              "  </tbody>\n",
              "</table>\n",
              "</div>"
            ],
            "text/plain": [
              "   FpDensityMorgan1  FpDensityMorgan2  FpDensityMorgan3  ExactMolWt  \\\n",
              "0          0.782609          1.434783          2.130435  301.110279   \n",
              "1          0.240000          0.520000          0.860000  646.116486   \n",
              "2          1.636364          2.272727          2.727273  157.059974   \n",
              "3          1.600000          2.300000          2.800000  138.017775   \n",
              "4          1.526316          2.263158          2.842105  264.122240   \n",
              "5          1.750000          2.333333          2.750000  173.043656   \n",
              "6          1.178571          1.857143          2.500000  406.154702   \n",
              "7          0.666667          0.888889          1.111111  126.065394   \n",
              "8          1.043478          1.826087          2.608696  307.095691   \n",
              "9          1.437500          2.187500          2.937500  234.082684   \n",
              "\n",
              "   HeavyAtomCount  Label  \n",
              "0              23      1  \n",
              "1              50      0  \n",
              "2              11      1  \n",
              "3              10      1  \n",
              "4              19      1  \n",
              "5              12      1  \n",
              "6              28      0  \n",
              "7               9      0  \n",
              "8              23      1  \n",
              "9              16      0  "
            ]
          },
          "execution_count": 51,
          "metadata": {},
          "output_type": "execute_result"
        }
      ],
      "source": [
        "descriptor_df_train.head(10)\n",
        "# to print csv uncomment\n",
        "# descriptor_df_train.to_csv('full_dataset.csv', index=False)"
      ]
    },
    {
      "cell_type": "markdown",
      "metadata": {
        "id": "LKskNBABZm9L"
      },
      "source": [
        "# Fit RFC"
      ]
    },
    {
      "cell_type": "code",
      "execution_count": 26,
      "metadata": {
        "colab": {
          "base_uri": "https://localhost:8080/",
          "height": 74
        },
        "id": "zS5UE3EwAaha",
        "outputId": "2e3085ee-ba95-4e89-b2a5-6e0112ac9f00"
      },
      "outputs": [
        {
          "data": {
            "text/html": [
              "<style>#sk-container-id-3 {color: black;background-color: white;}#sk-container-id-3 pre{padding: 0;}#sk-container-id-3 div.sk-toggleable {background-color: white;}#sk-container-id-3 label.sk-toggleable__label {cursor: pointer;display: block;width: 100%;margin-bottom: 0;padding: 0.3em;box-sizing: border-box;text-align: center;}#sk-container-id-3 label.sk-toggleable__label-arrow:before {content: \"▸\";float: left;margin-right: 0.25em;color: #696969;}#sk-container-id-3 label.sk-toggleable__label-arrow:hover:before {color: black;}#sk-container-id-3 div.sk-estimator:hover label.sk-toggleable__label-arrow:before {color: black;}#sk-container-id-3 div.sk-toggleable__content {max-height: 0;max-width: 0;overflow: hidden;text-align: left;background-color: #f0f8ff;}#sk-container-id-3 div.sk-toggleable__content pre {margin: 0.2em;color: black;border-radius: 0.25em;background-color: #f0f8ff;}#sk-container-id-3 input.sk-toggleable__control:checked~div.sk-toggleable__content {max-height: 200px;max-width: 100%;overflow: auto;}#sk-container-id-3 input.sk-toggleable__control:checked~label.sk-toggleable__label-arrow:before {content: \"▾\";}#sk-container-id-3 div.sk-estimator input.sk-toggleable__control:checked~label.sk-toggleable__label {background-color: #d4ebff;}#sk-container-id-3 div.sk-label input.sk-toggleable__control:checked~label.sk-toggleable__label {background-color: #d4ebff;}#sk-container-id-3 input.sk-hidden--visually {border: 0;clip: rect(1px 1px 1px 1px);clip: rect(1px, 1px, 1px, 1px);height: 1px;margin: -1px;overflow: hidden;padding: 0;position: absolute;width: 1px;}#sk-container-id-3 div.sk-estimator {font-family: monospace;background-color: #f0f8ff;border: 1px dotted black;border-radius: 0.25em;box-sizing: border-box;margin-bottom: 0.5em;}#sk-container-id-3 div.sk-estimator:hover {background-color: #d4ebff;}#sk-container-id-3 div.sk-parallel-item::after {content: \"\";width: 100%;border-bottom: 1px solid gray;flex-grow: 1;}#sk-container-id-3 div.sk-label:hover label.sk-toggleable__label {background-color: #d4ebff;}#sk-container-id-3 div.sk-serial::before {content: \"\";position: absolute;border-left: 1px solid gray;box-sizing: border-box;top: 0;bottom: 0;left: 50%;z-index: 0;}#sk-container-id-3 div.sk-serial {display: flex;flex-direction: column;align-items: center;background-color: white;padding-right: 0.2em;padding-left: 0.2em;position: relative;}#sk-container-id-3 div.sk-item {position: relative;z-index: 1;}#sk-container-id-3 div.sk-parallel {display: flex;align-items: stretch;justify-content: center;background-color: white;position: relative;}#sk-container-id-3 div.sk-item::before, #sk-container-id-3 div.sk-parallel-item::before {content: \"\";position: absolute;border-left: 1px solid gray;box-sizing: border-box;top: 0;bottom: 0;left: 50%;z-index: -1;}#sk-container-id-3 div.sk-parallel-item {display: flex;flex-direction: column;z-index: 1;position: relative;background-color: white;}#sk-container-id-3 div.sk-parallel-item:first-child::after {align-self: flex-end;width: 50%;}#sk-container-id-3 div.sk-parallel-item:last-child::after {align-self: flex-start;width: 50%;}#sk-container-id-3 div.sk-parallel-item:only-child::after {width: 0;}#sk-container-id-3 div.sk-dashed-wrapped {border: 1px dashed gray;margin: 0 0.4em 0.5em 0.4em;box-sizing: border-box;padding-bottom: 0.4em;background-color: white;}#sk-container-id-3 div.sk-label label {font-family: monospace;font-weight: bold;display: inline-block;line-height: 1.2em;}#sk-container-id-3 div.sk-label-container {text-align: center;}#sk-container-id-3 div.sk-container {/* jupyter's `normalize.less` sets `[hidden] { display: none; }` but bootstrap.min.css set `[hidden] { display: none !important; }` so we also need the `!important` here to be able to override the default hidden behavior on the sphinx rendered scikit-learn.org. See: https://github.com/scikit-learn/scikit-learn/issues/21755 */display: inline-block !important;position: relative;}#sk-container-id-3 div.sk-text-repr-fallback {display: none;}</style><div id=\"sk-container-id-3\" class=\"sk-top-container\"><div class=\"sk-text-repr-fallback\"><pre>RandomForestClassifier(n_estimators=1000, random_state=42)</pre><b>In a Jupyter environment, please rerun this cell to show the HTML representation or trust the notebook. <br />On GitHub, the HTML representation is unable to render, please try loading this page with nbviewer.org.</b></div><div class=\"sk-container\" hidden><div class=\"sk-item\"><div class=\"sk-estimator sk-toggleable\"><input class=\"sk-toggleable__control sk-hidden--visually\" id=\"sk-estimator-id-3\" type=\"checkbox\" checked><label for=\"sk-estimator-id-3\" class=\"sk-toggleable__label sk-toggleable__label-arrow\">RandomForestClassifier</label><div class=\"sk-toggleable__content\"><pre>RandomForestClassifier(n_estimators=1000, random_state=42)</pre></div></div></div></div></div>"
            ],
            "text/plain": [
              "RandomForestClassifier(n_estimators=1000, random_state=42)"
            ]
          },
          "execution_count": 26,
          "metadata": {},
          "output_type": "execute_result"
        }
      ],
      "source": [
        "rf_classifier = RandomForestClassifier(n_estimators=1000, random_state=42)\n",
        "\n",
        "rf_classifier.fit(X_train, y_train)"
      ]
    },
    {
      "cell_type": "code",
      "execution_count": 27,
      "metadata": {
        "colab": {
          "base_uri": "https://localhost:8080/"
        },
        "id": "rg1Mix22Arem",
        "outputId": "848c6439-aa43-40c8-e6e3-6c8cc4e9a2cb"
      },
      "outputs": [
        {
          "name": "stdout",
          "output_type": "stream",
          "text": [
            "Test AUC: 0.6668533034714446\n",
            "Train AUC: 0.9840869632031591\n",
            "Val AUC: 0.6547957775258895\n"
          ]
        }
      ],
      "source": [
        "y_pred = rf_classifier.predict(X_test)\n",
        "from sklearn.metrics import roc_auc_score\n",
        "\n",
        "auc_test = roc_auc_score(y_test, y_pred)\n",
        "auc_train = roc_auc_score(y_train, rf_classifier.predict(X_train))\n",
        "auc_val = roc_auc_score(y_val, rf_classifier.predict(X_val))\n",
        "\n",
        "print(f\"Test AUC: {auc_test}\")\n",
        "print(f\"Train AUC: {auc_train}\")\n",
        "print(f\"Val AUC: {auc_val}\")"
      ]
    },
    {
      "cell_type": "code",
      "execution_count": 28,
      "metadata": {
        "colab": {
          "base_uri": "https://localhost:8080/"
        },
        "id": "UTgGn6oTGcCr",
        "outputId": "a06e6624-16ef-4cf3-b0a1-466ac9a51a60"
      },
      "outputs": [
        {
          "name": "stdout",
          "output_type": "stream",
          "text": [
            "            Feature  Importance\n",
            "3        ExactMolWt    0.358664\n",
            "2  FpDensityMorgan3    0.201189\n",
            "0  FpDensityMorgan1    0.178862\n",
            "1  FpDensityMorgan2    0.158070\n",
            "4    HeavyAtomCount    0.103216\n"
          ]
        }
      ],
      "source": [
        "\n",
        "importances = rf_classifier.feature_importances_\n",
        "\n",
        "feature_names = X_train.columns\n",
        "feature_importance_df = pd.DataFrame({\n",
        "    'Feature': feature_names,\n",
        "    'Importance': importances\n",
        "})\n",
        "\n",
        "feature_importance_df = feature_importance_df.sort_values(by='Importance', ascending=False)\n",
        "\n",
        "print(feature_importance_df)"
      ]
    },
    {
      "cell_type": "code",
      "execution_count": 29,
      "metadata": {},
      "outputs": [
        {
          "data": {
            "image/png": "[encoded data removed]",
            "text/plain": [
              "<Figure size 640x480 with 1 Axes>"
            ]
          },
          "metadata": {},
          "output_type": "display_data"
        }
      ],
      "source": [
        "import matplotlib.pyplot as plt\n",
        "\n",
        "# Plot feature importance\n",
        "plt.barh(feature_importance_df['Feature'], feature_importance_df['Importance'])\n",
        "plt.gca().invert_yaxis()  # Invert y-axis to have the most important features at the top\n",
        "plt.xlabel('Importance')\n",
        "plt.title('Feature Importance')\n",
        "plt.show()"
      ]
    },
    {
      "cell_type": "markdown",
      "metadata": {
        "id": "eJObZgnXqXXw"
      },
      "source": [
        "# Fit kNN"
      ]
    },
    {
      "cell_type": "code",
      "execution_count": 30,
      "metadata": {
        "colab": {
          "base_uri": "https://localhost:8080/",
          "height": 74
        },
        "id": "tEIACK5JqayK",
        "outputId": "0d79263e-e3a1-4882-e968-38ad46de4fe3"
      },
      "outputs": [
        {
          "data": {
            "text/html": [
              "<style>#sk-container-id-4 {color: black;background-color: white;}#sk-container-id-4 pre{padding: 0;}#sk-container-id-4 div.sk-toggleable {background-color: white;}#sk-container-id-4 label.sk-toggleable__label {cursor: pointer;display: block;width: 100%;margin-bottom: 0;padding: 0.3em;box-sizing: border-box;text-align: center;}#sk-container-id-4 label.sk-toggleable__label-arrow:before {content: \"▸\";float: left;margin-right: 0.25em;color: #696969;}#sk-container-id-4 label.sk-toggleable__label-arrow:hover:before {color: black;}#sk-container-id-4 div.sk-estimator:hover label.sk-toggleable__label-arrow:before {color: black;}#sk-container-id-4 div.sk-toggleable__content {max-height: 0;max-width: 0;overflow: hidden;text-align: left;background-color: #f0f8ff;}#sk-container-id-4 div.sk-toggleable__content pre {margin: 0.2em;color: black;border-radius: 0.25em;background-color: #f0f8ff;}#sk-container-id-4 input.sk-toggleable__control:checked~div.sk-toggleable__content {max-height: 200px;max-width: 100%;overflow: auto;}#sk-container-id-4 input.sk-toggleable__control:checked~label.sk-toggleable__label-arrow:before {content: \"▾\";}#sk-container-id-4 div.sk-estimator input.sk-toggleable__control:checked~label.sk-toggleable__label {background-color: #d4ebff;}#sk-container-id-4 div.sk-label input.sk-toggleable__control:checked~label.sk-toggleable__label {background-color: #d4ebff;}#sk-container-id-4 input.sk-hidden--visually {border: 0;clip: rect(1px 1px 1px 1px);clip: rect(1px, 1px, 1px, 1px);height: 1px;margin: -1px;overflow: hidden;padding: 0;position: absolute;width: 1px;}#sk-container-id-4 div.sk-estimator {font-family: monospace;background-color: #f0f8ff;border: 1px dotted black;border-radius: 0.25em;box-sizing: border-box;margin-bottom: 0.5em;}#sk-container-id-4 div.sk-estimator:hover {background-color: #d4ebff;}#sk-container-id-4 div.sk-parallel-item::after {content: \"\";width: 100%;border-bottom: 1px solid gray;flex-grow: 1;}#sk-container-id-4 div.sk-label:hover label.sk-toggleable__label {background-color: #d4ebff;}#sk-container-id-4 div.sk-serial::before {content: \"\";position: absolute;border-left: 1px solid gray;box-sizing: border-box;top: 0;bottom: 0;left: 50%;z-index: 0;}#sk-container-id-4 div.sk-serial {display: flex;flex-direction: column;align-items: center;background-color: white;padding-right: 0.2em;padding-left: 0.2em;position: relative;}#sk-container-id-4 div.sk-item {position: relative;z-index: 1;}#sk-container-id-4 div.sk-parallel {display: flex;align-items: stretch;justify-content: center;background-color: white;position: relative;}#sk-container-id-4 div.sk-item::before, #sk-container-id-4 div.sk-parallel-item::before {content: \"\";position: absolute;border-left: 1px solid gray;box-sizing: border-box;top: 0;bottom: 0;left: 50%;z-index: -1;}#sk-container-id-4 div.sk-parallel-item {display: flex;flex-direction: column;z-index: 1;position: relative;background-color: white;}#sk-container-id-4 div.sk-parallel-item:first-child::after {align-self: flex-end;width: 50%;}#sk-container-id-4 div.sk-parallel-item:last-child::after {align-self: flex-start;width: 50%;}#sk-container-id-4 div.sk-parallel-item:only-child::after {width: 0;}#sk-container-id-4 div.sk-dashed-wrapped {border: 1px dashed gray;margin: 0 0.4em 0.5em 0.4em;box-sizing: border-box;padding-bottom: 0.4em;background-color: white;}#sk-container-id-4 div.sk-label label {font-family: monospace;font-weight: bold;display: inline-block;line-height: 1.2em;}#sk-container-id-4 div.sk-label-container {text-align: center;}#sk-container-id-4 div.sk-container {/* jupyter's `normalize.less` sets `[hidden] { display: none; }` but bootstrap.min.css set `[hidden] { display: none !important; }` so we also need the `!important` here to be able to override the default hidden behavior on the sphinx rendered scikit-learn.org. See: https://github.com/scikit-learn/scikit-learn/issues/21755 */display: inline-block !important;position: relative;}#sk-container-id-4 div.sk-text-repr-fallback {display: none;}</style><div id=\"sk-container-id-4\" class=\"sk-top-container\"><div class=\"sk-text-repr-fallback\"><pre>KNeighborsClassifier(algorithm=&#x27;brute&#x27;, n_jobs=-1, p=1, weights=&#x27;distance&#x27;)</pre><b>In a Jupyter environment, please rerun this cell to show the HTML representation or trust the notebook. <br />On GitHub, the HTML representation is unable to render, please try loading this page with nbviewer.org.</b></div><div class=\"sk-container\" hidden><div class=\"sk-item\"><div class=\"sk-estimator sk-toggleable\"><input class=\"sk-toggleable__control sk-hidden--visually\" id=\"sk-estimator-id-4\" type=\"checkbox\" checked><label for=\"sk-estimator-id-4\" class=\"sk-toggleable__label sk-toggleable__label-arrow\">KNeighborsClassifier</label><div class=\"sk-toggleable__content\"><pre>KNeighborsClassifier(algorithm=&#x27;brute&#x27;, n_jobs=-1, p=1, weights=&#x27;distance&#x27;)</pre></div></div></div></div></div>"
            ],
            "text/plain": [
              "KNeighborsClassifier(algorithm='brute', n_jobs=-1, p=1, weights='distance')"
            ]
          },
          "execution_count": 30,
          "metadata": {},
          "output_type": "execute_result"
        }
      ],
      "source": [
        "from sklearn.neighbors import KNeighborsClassifier\n",
        "kNN = KNeighborsClassifier(n_neighbors=5, weights='distance', algorithm='brute', p=1, n_jobs=-1)\n",
        "kNN.fit(X_train, y_train)"
      ]
    },
    {
      "cell_type": "code",
      "execution_count": 35,
      "metadata": {
        "colab": {
          "base_uri": "https://localhost:8080/"
        },
        "id": "sf3i6Y-5q45b",
        "outputId": "551c27c6-559e-4c53-8bb6-4328abc2f6ae"
      },
      "outputs": [
        {
          "name": "stdout",
          "output_type": "stream",
          "text": [
            "Test AUC: 0.6585879592598518\n",
            "Train AUC: 0.9855024591506247\n",
            "Val AUC: 0.6580651877212057\n"
          ]
        }
      ],
      "source": [
        "y_pred = kNN.predict(X_test)\n",
        "from sklearn.metrics import roc_auc_score\n",
        "\n",
        "auc_test = roc_auc_score(y_test, kNN.predict(X_test))\n",
        "auc_train = roc_auc_score(y_train, kNN.predict(X_train))\n",
        "auc_val = roc_auc_score(y_val, kNN.predict(X_val))\n",
        "\n",
        "print(f\"Test AUC: {auc_test}\")\n",
        "print(f\"Train AUC: {auc_train}\")\n",
        "print(f\"Val AUC: {auc_val}\")"
      ]
    },
    {
      "cell_type": "code",
      "execution_count": 45,
      "metadata": {},
      "outputs": [
        {
          "name": "stdout",
          "output_type": "stream",
          "text": [
            "            Feature  Importance\n",
            "3        ExactMolWt    0.491246\n",
            "4    HeavyAtomCount    0.288143\n",
            "2  FpDensityMorgan3    0.057925\n",
            "1  FpDensityMorgan2    0.033621\n",
            "0  FpDensityMorgan1    0.029048\n"
          ]
        }
      ],
      "source": [
        "from sklearn.inspection import permutation_importance\n",
        "import pandas as pd\n",
        "\n",
        "# Calculate permutation importance for kNN\n",
        "perm_importance = permutation_importance(kNN, X_train, y_train, scoring='roc_auc', n_repeats=30, random_state=42)\n",
        "\n",
        "# Prepare a DataFrame for feature importance\n",
        "feature_importance_df = pd.DataFrame({\n",
        "    'Feature': X_train.columns,  \n",
        "    'Importance': perm_importance.importances_mean  \n",
        "})\n",
        "\n",
        "# Sort by importance in descending order\n",
        "feature_importance_df = feature_importance_df.sort_values(by='Importance', ascending=False)\n",
        "\n",
        "# Print the feature importance DataFrame\n",
        "print(feature_importance_df)"
      ]
    },
    {
      "cell_type": "code",
      "execution_count": 49,
      "metadata": {},
      "outputs": [
        {
          "data": {
            "image/png": "[encoded data removed]",
            "text/plain": [
              "<Figure size 640x480 with 1 Axes>"
            ]
          },
          "metadata": {},
          "output_type": "display_data"
        }
      ],
      "source": [
        "import matplotlib.pyplot as plt\n",
        "\n",
        "# Assuming rf_classifier.feature_importances_ is calculated\n",
        "rfc_importances = rf_classifier.feature_importances_\n",
        "\n",
        "# Combine RFC and kNN feature importance into a DataFrame\n",
        "feature_importance_comparison = pd.DataFrame({\n",
        "    'Feature': X_train.columns,\n",
        "    'RFC Importance': rfc_importances,\n",
        "    'kNN Importance': perm_importance.importances_mean\n",
        "})\n",
        "\n",
        "# Plot the comparison\n",
        "feature_importance_comparison.set_index('Feature').plot(kind='bar')\n",
        "plt.title('Feature Importance Comparison: RFC vs kNN')\n",
        "plt.ylabel('Importance')\n",
        "plt.xlabel(' ')\n",
        "plt.legend(title='Model')\n",
        "plt.tight_layout()\n",
        "plt.show()"
      ]
    },
    {
      "cell_type": "code",
      "execution_count": 50,
      "metadata": {},
      "outputs": [
        {
          "name": "stdout",
          "output_type": "stream",
          "text": [
            "Note: you may need to restart the kernel to use updated packages.\n"
          ]
        }
      ],
      "source": [
        "#uncomment to freeze requirements\n",
        "# pip freeze > requirements.txt"
      ]
    }
  ],
  "metadata": {
    "colab": {
      "provenance": []
    },
    "kernelspec": {
      "display_name": "Python 3",
      "name": "python3"
    },
    "language_info": {
      "codemirror_mode": {
        "name": "ipython",
        "version": 3
      },
      "file_extension": ".py",
      "mimetype": "text/x-python",
      "name": "python",
      "nbconvert_exporter": "python",
      "pygments_lexer": "ipython3",
      "version": "3.9.20"
    }
  },
  "nbformat": 4,
  "nbformat_minor": 0
}
