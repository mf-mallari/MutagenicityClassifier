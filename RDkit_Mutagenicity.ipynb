{
  "cells": [
    {
      "cell_type": "code",
      "execution_count": null,
      "metadata": {
        "colab": {
          "base_uri": "https://localhost:8080/",
          "height": 1000
        },
        "id": "umyeRePb7JDs",
        "outputId": "8fd32e45-e646-4c72-a6b0-7f7f6eab1e0b"
      },
      "outputs": [],
      "source": [
        "#  !pip install PyTDC\n",
        "#  !pip install pysmiles\n",
        "#  !pip install rdkit"
      ]
    },
    {
      "cell_type": "code",
      "execution_count": null,
      "metadata": {
        "colab": {
          "base_uri": "https://localhost:8080/"
        },
        "id": "oYtZsA0J7iCA",
        "outputId": "7d9be456-62a9-409f-e012-85eadda4b579"
      },
      "outputs": [],
      "source": [
        "from tdc.single_pred import Tox\n",
        "import pandas as pd\n",
        "from rdkit import Chem\n",
        "import rdkit\n",
        "from rdkit.Chem import Descriptors\n",
        "from sklearn.ensemble import RandomForestClassifier\n",
        "from sklearn.neighbors import KNeighborsClassifier\n",
        "from sklearn.metrics import accuracy_score, classification_report\n",
        "\n",
        "data = Tox(name = 'AMES')\n",
        "split = data.get_split()"
      ]
    },
    {
      "cell_type": "code",
      "execution_count": 3,
      "metadata": {
        "id": "2l02cVtK7j3O"
      },
      "outputs": [],
      "source": [
        "train_df = pd.DataFrame(split['train'])\n",
        "val_df = pd.DataFrame(split['valid'])\n",
        "test_df = pd.DataFrame(split['test'])"
      ]
    },
    {
      "cell_type": "markdown",
      "metadata": {
        "id": "D0fm6XDQYrYH"
      },
      "source": [
        "# Data checking + getting features"
      ]
    },
    {
      "cell_type": "code",
      "execution_count": 4,
      "metadata": {
        "id": "AhLQ9YP7YrBb"
      },
      "outputs": [],
      "source": [
        "# Checks if mutagenicity- \"Y\" value is 0 or 1. Otherwise, filter it out\n",
        "train_df = train_df[train_df[\"Y\"].isin([0, 1])]\n",
        "val_df = val_df[val_df[\"Y\"].isin([0, 1])]\n",
        "test_df = test_df[test_df[\"Y\"].isin([0, 1])]"
      ]
    },
    {
      "cell_type": "code",
      "execution_count": 22,
      "metadata": {
        "id": "uDoXhGDjB0r0"
      },
      "outputs": [],
      "source": [
        "def get_descriptor(dataset):\n",
        "  data = []\n",
        "  label = []\n",
        "\n",
        "  for i in range(len(dataset)):\n",
        "    smiles = dataset.loc[i, \"Drug\"]\n",
        "    label.append(dataset.loc[i, \"Y\"])\n",
        "    mol = Chem.MolFromSmiles(smiles)\n",
        "    if mol: # checks for valid smile strings\n",
        "        fpD1 = Descriptors.FpDensityMorgan1(mol)\n",
        "        fpD2 = Descriptors.FpDensityMorgan2(mol)\n",
        "        fpD3 = Descriptors.FpDensityMorgan3(mol)\n",
        "        mw = Descriptors.ExactMolWt(mol)\n",
        "        heavyAtom = Descriptors.HeavyAtomCount(mol)\n",
        "        data.append([fpD1, fpD2, fpD3, mw, heavyAtom])\n",
        "\n",
        "  columns = ['FpDensityMorgan1', 'FpDensityMorgan2', 'FpDensityMorgan3', 'ExactMolWt', \"HeavyAtomCount\"]\n",
        "  descriptor_df = pd.DataFrame(data, columns=columns)\n",
        "  descriptor_df['Label'] = label\n",
        "\n",
        "  return descriptor_df"
      ]
    },
    {
      "cell_type": "markdown",
      "metadata": {
        "id": "AW7YEwPDZdYG"
      },
      "source": [
        "# Splitting code up into features and labels"
      ]
    },
    {
      "cell_type": "code",
      "execution_count": null,
      "metadata": {
        "colab": {
          "base_uri": "https://localhost:8080/"
        },
        "id": "Y5g51yB9uwct",
        "outputId": "7e64de5d-b077-4007-cf9e-c3aa44dec67d"
      },
      "outputs": [],
      "source": [
        "print(\"Train:\")\n",
        "print(len(train_df[train_df[\"Y\"] == 1]))\n",
        "print(len(train_df[train_df[\"Y\"] == 0]))\n",
        "print(\"=========================================\")\n",
        "print(\"Test:\")\n",
        "print(len(test_df[test_df[\"Y\"] == 1]))\n",
        "print(len(test_df[test_df[\"Y\"] == 0]))\n",
        "print(\"=========================================\")\n",
        "print(\"Val:\")\n",
        "print(len(val_df[val_df[\"Y\"] == 1]))\n",
        "print(len(val_df[val_df[\"Y\"] == 0]))\n",
        "\n",
        "print(\"=========================================\")\n",
        "print(\"Total:\")\n",
        "print(len(train_df[train_df[\"Y\"] == 1]) + len(test_df[test_df[\"Y\"] == 1]) + len(val_df[val_df[\"Y\"] == 1]))\n",
        "print(len(train_df[train_df[\"Y\"] == 0]) + len(test_df[test_df[\"Y\"] == 0]) + len(val_df[val_df[\"Y\"] == 0]))"
      ]
    },
    {
      "cell_type": "code",
      "execution_count": 24,
      "metadata": {
        "id": "-MzfymfMACqa"
      },
      "outputs": [],
      "source": [
        "descriptor_df_train = get_descriptor(train_df)\n",
        "descriptor_df_val = get_descriptor(val_df)\n",
        "descriptor_df_test = get_descriptor(test_df)\n",
        "\n",
        "X_train, y_train = descriptor_df_train.drop(columns=['Label']), descriptor_df_train['Label']\n",
        "X_val, y_val = descriptor_df_val.drop(columns=['Label']), descriptor_df_val['Label']\n",
        "X_test, y_test = descriptor_df_test.drop(columns=['Label']), descriptor_df_test['Label']"
      ]
    },
    {
      "cell_type": "code",
      "execution_count": null,
      "metadata": {
        "colab": {
          "base_uri": "https://localhost:8080/",
          "height": 359
        },
        "id": "NUjqk016vSSA",
        "outputId": "d7c8753c-5b1e-46c3-ab24-b7968437924b"
      },
      "outputs": [],
      "source": [
        "descriptor_df_train.head(10)\n",
        "# to print csv uncomment\n",
        "# descriptor_df_train.to_csv('full_dataset.csv', index=False)"
      ]
    },
    {
      "cell_type": "markdown",
      "metadata": {
        "id": "LKskNBABZm9L"
      },
      "source": [
        "# Fit RFC"
      ]
    },
    {
      "cell_type": "code",
      "execution_count": null,
      "metadata": {
        "colab": {
          "base_uri": "https://localhost:8080/",
          "height": 74
        },
        "id": "zS5UE3EwAaha",
        "outputId": "2e3085ee-ba95-4e89-b2a5-6e0112ac9f00"
      },
      "outputs": [],
      "source": [
        "rf_classifier = RandomForestClassifier(n_estimators=1000, random_state=42)\n",
        "\n",
        "rf_classifier.fit(X_train, y_train)"
      ]
    },
    {
      "cell_type": "code",
      "execution_count": null,
      "metadata": {
        "colab": {
          "base_uri": "https://localhost:8080/"
        },
        "id": "rg1Mix22Arem",
        "outputId": "848c6439-aa43-40c8-e6e3-6c8cc4e9a2cb"
      },
      "outputs": [],
      "source": [
        "y_pred = rf_classifier.predict(X_test)\n",
        "from sklearn.metrics import roc_auc_score\n",
        "\n",
        "auc_test = roc_auc_score(y_test, y_pred)\n",
        "auc_train = roc_auc_score(y_train, rf_classifier.predict(X_train))\n",
        "auc_val = roc_auc_score(y_val, rf_classifier.predict(X_val))\n",
        "\n",
        "print(f\"Test AUC: {auc_test}\")\n",
        "print(f\"Train AUC: {auc_train}\")\n",
        "print(f\"Val AUC: {auc_val}\")"
      ]
    },
    {
      "cell_type": "code",
      "execution_count": null,
      "metadata": {
        "colab": {
          "base_uri": "https://localhost:8080/"
        },
        "id": "UTgGn6oTGcCr",
        "outputId": "a06e6624-16ef-4cf3-b0a1-466ac9a51a60"
      },
      "outputs": [],
      "source": [
        "\n",
        "importances = rf_classifier.feature_importances_\n",
        "\n",
        "feature_names = X_train.columns\n",
        "feature_importance_df = pd.DataFrame({\n",
        "    'Feature': feature_names,\n",
        "    'Importance': importances\n",
        "})\n",
        "\n",
        "feature_importance_df = feature_importance_df.sort_values(by='Importance', ascending=False)\n",
        "\n",
        "print(feature_importance_df)"
      ]
    },
    {
      "cell_type": "code",
      "execution_count": null,
      "metadata": {},
      "outputs": [],
      "source": [
        "import matplotlib.pyplot as plt\n",
        "\n",
        "# Plot feature importance\n",
        "plt.barh(feature_importance_df['Feature'], feature_importance_df['Importance'])\n",
        "plt.gca().invert_yaxis()  # Invert y-axis to have the most important features at the top\n",
        "plt.xlabel('Importance')\n",
        "plt.title('Feature Importance')\n",
        "plt.show()"
      ]
    },
    {
      "cell_type": "markdown",
      "metadata": {
        "id": "eJObZgnXqXXw"
      },
      "source": [
        "# Fit kNN"
      ]
    },
    {
      "cell_type": "code",
      "execution_count": null,
      "metadata": {
        "colab": {
          "base_uri": "https://localhost:8080/",
          "height": 74
        },
        "id": "tEIACK5JqayK",
        "outputId": "0d79263e-e3a1-4882-e968-38ad46de4fe3"
      },
      "outputs": [],
      "source": [
        "from sklearn.neighbors import KNeighborsClassifier\n",
        "kNN = KNeighborsClassifier(n_neighbors=5, weights='distance', algorithm='brute', p=1, n_jobs=-1)\n",
        "kNN.fit(X_train, y_train)"
      ]
    },
    {
      "cell_type": "code",
      "execution_count": null,
      "metadata": {
        "colab": {
          "base_uri": "https://localhost:8080/"
        },
        "id": "sf3i6Y-5q45b",
        "outputId": "551c27c6-559e-4c53-8bb6-4328abc2f6ae"
      },
      "outputs": [],
      "source": [
        "y_pred = kNN.predict(X_test)\n",
        "from sklearn.metrics import roc_auc_score\n",
        "\n",
        "auc_test = roc_auc_score(y_test, kNN.predict(X_test))\n",
        "auc_train = roc_auc_score(y_train, kNN.predict(X_train))\n",
        "auc_val = roc_auc_score(y_val, kNN.predict(X_val))\n",
        "\n",
        "print(f\"Test AUC: {auc_test}\")\n",
        "print(f\"Train AUC: {auc_train}\")\n",
        "print(f\"Val AUC: {auc_val}\")"
      ]
    },
    {
      "cell_type": "code",
      "execution_count": null,
      "metadata": {},
      "outputs": [],
      "source": [
        "from sklearn.inspection import permutation_importance\n",
        "import pandas as pd\n",
        "\n",
        "# Calculate permutation importance for kNN\n",
        "perm_importance = permutation_importance(kNN, X_train, y_train, scoring='roc_auc', n_repeats=30, random_state=42)\n",
        "\n",
        "# Prepare a DataFrame for feature importance\n",
        "feature_importance_df = pd.DataFrame({\n",
        "    'Feature': X_train.columns,  \n",
        "    'Importance': perm_importance.importances_mean  \n",
        "})\n",
        "\n",
        "# Sort by importance in descending order\n",
        "feature_importance_df = feature_importance_df.sort_values(by='Importance', ascending=False)\n",
        "\n",
        "# Print the feature importance DataFrame\n",
        "print(feature_importance_df)"
      ]
    },
    {
      "cell_type": "code",
      "execution_count": null,
      "metadata": {},
      "outputs": [],
      "source": [
        "import matplotlib.pyplot as plt\n",
        "\n",
        "# Assuming rf_classifier.feature_importances_ is calculated\n",
        "rfc_importances = rf_classifier.feature_importances_\n",
        "\n",
        "# Combine RFC and kNN feature importance into a DataFrame\n",
        "feature_importance_comparison = pd.DataFrame({\n",
        "    'Feature': X_train.columns,\n",
        "    'RFC Importance': rfc_importances,\n",
        "    'kNN Importance': perm_importance.importances_mean\n",
        "})\n",
        "\n",
        "# Plot the comparison\n",
        "feature_importance_comparison.set_index('Feature').plot(kind='bar')\n",
        "plt.title('Feature Importance Comparison: RFC vs kNN')\n",
        "plt.ylabel('Importance')\n",
        "plt.xlabel(' ')\n",
        "plt.legend(title='Model')\n",
        "plt.tight_layout()\n",
        "plt.show()"
      ]
    },
    {
      "cell_type": "code",
      "execution_count": null,
      "metadata": {},
      "outputs": [],
      "source": [
        "#uncomment to freeze requirements\n",
        "# pip freeze > requirements.txt"
      ]
    }
  ],
  "metadata": {
    "colab": {
      "provenance": []
    },
    "kernelspec": {
      "display_name": "Python 3",
      "name": "python3"
    },
    "language_info": {
      "codemirror_mode": {
        "name": "ipython",
        "version": 3
      },
      "file_extension": ".py",
      "mimetype": "text/x-python",
      "name": "python",
      "nbconvert_exporter": "python",
      "pygments_lexer": "ipython3",
      "version": "3.9.20"
    }
  },
  "nbformat": 4,
  "nbformat_minor": 0
}
